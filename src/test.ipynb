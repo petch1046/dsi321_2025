{
 "cells": [
  {
   "cell_type": "code",
   "execution_count": null,
   "id": "0748799f",
   "metadata": {
    "vscode": {
     "languageId": "plaintext"
    }
   },
   "outputs": [],
   "source": [
    "import requests\n",
    "import pandas as pd\n",
    "from prefect import flow, task, get_run_logger"
   ]
  },
  {
   "cell_type": "code",
   "execution_count": null,
   "id": "f3df16ad",
   "metadata": {
    "vscode": {
     "languageId": "plaintext"
    }
   },
   "outputs": [],
   "source": [
    "base_url = \"http://air4thai.pcd.go.th\"\n",
    "path = \"/services/getNewAQI_JSON.php\""
   ]
  },
  {
   "cell_type": "code",
   "execution_count": null,
   "id": "c6e82042",
   "metadata": {
    "vscode": {
     "languageId": "plaintext"
    }
   },
   "outputs": [],
   "source": [
    "#logger = get_run_logger()\n",
    "response = requests.get(url=base_url+path)\n",
    "response.raise_for_status()\n",
    "AQI_stats = response.json()\n",
    "data = AQI_stats['stations']\n",
    "print(data)\n",
    "#logger.info(AQI_stats)"
   ]
  },
  {
   "cell_type": "code",
   "execution_count": null,
   "id": "7579620f",
   "metadata": {
    "vscode": {
     "languageId": "plaintext"
    }
   },
   "outputs": [],
   "source": [
    "df = pd.DataFrame(data)\n",
    "df.head()"
   ]
  },
  {
   "cell_type": "code",
   "execution_count": null,
   "id": "e95ce4df",
   "metadata": {
    "vscode": {
     "languageId": "plaintext"
    }
   },
   "outputs": [],
   "source": [
    "df.info()"
   ]
  },
  {
   "cell_type": "code",
   "execution_count": null,
   "id": "95c1c3eb",
   "metadata": {
    "vscode": {
     "languageId": "plaintext"
    }
   },
   "outputs": [],
   "source": [
    "expanded_aqi = pd.json_normalize(df['AQILast'])\n",
    "expanded_aqi"
   ]
  },
  {
   "cell_type": "code",
   "execution_count": null,
   "id": "80cd438a",
   "metadata": {
    "vscode": {
     "languageId": "plaintext"
    }
   },
   "outputs": [],
   "source": [
    "df = pd.concat([df, expanded_aqi], axis=1)\n",
    "df"
   ]
  },
  {
   "cell_type": "code",
   "execution_count": null,
   "id": "f61109ea",
   "metadata": {
    "vscode": {
     "languageId": "plaintext"
    }
   },
   "outputs": [],
   "source": [
    "df['time'] = df['time'].mode()[0]\n",
    "df['date'] = df['date'].mode()[0]\n",
    "df['timestamp'] = pd.to_datetime(df['date'] + ' ' + df['time'])\n",
    "df[['year', 'month', 'day', 'hour']] = df['timestamp'].apply(\n",
    "    lambda ts: pd.Series([ts.year, ts.month, ts.day, ts.hour])\n",
    ")\n",
    "df[['PM25.color_id', 'PM25.aqi']] = df[['PM25.color_id', 'PM25.aqi']].astype(int)"
   ]
  },
  {
   "cell_type": "code",
   "execution_count": null,
   "id": "a22f459a",
   "metadata": {
    "vscode": {
     "languageId": "plaintext"
    }
   },
   "outputs": [],
   "source": [
    "df"
   ]
  },
  {
   "cell_type": "code",
   "execution_count": null,
   "id": "5dc5446c",
   "metadata": {
    "vscode": {
     "languageId": "plaintext"
    }
   },
   "outputs": [],
   "source": [
    "df[[\n",
    "        'timestamp', 'year', 'month', 'day', 'hour',\n",
    "        'stationID', 'nameTH', 'nameEN', 'areaTH', 'areaEN',\n",
    "        'stationType', 'lat', 'long',\n",
    "        'PM25.color_id', 'PM25.aqi'\n",
    "]]"
   ]
  },
  {
   "cell_type": "code",
   "execution_count": null,
   "id": "4bfe04ed",
   "metadata": {
    "vscode": {
     "languageId": "plaintext"
    }
   },
   "outputs": [],
   "source": []
  }
 ],
 "metadata": {
  "language_info": {
   "name": "python"
  }
 },
 "nbformat": 4,
 "nbformat_minor": 5
}
