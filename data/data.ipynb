{
 "cells": [
  {
   "cell_type": "code",
   "execution_count": 12,
   "id": "e53e2377",
   "metadata": {},
   "outputs": [],
   "source": [
    "import os\n",
    "import pandas as pd\n",
    "import numpy as np\n",
    "import pyarrow.parquet as pq\n",
    "import s3fs\n",
    "import time\n",
    "from zoneinfo import ZoneInfo\n",
    "from datetime import timedelta, datetime\n",
    "\n",
    "\n",
    "# Set up environments of LakeFS\n",
    "lakefs_endpoint = os.getenv(\"LAKEFS_ENDPOINT\", \"http://localhost:8001\")\n",
    "ACCESS_KEY = 'access_key'\n",
    "SECRET_KEY = 'secret_key'\n",
    "\n",
    "# Setting S3FileSystem for access LakeFS\n",
    "fs = s3fs.S3FileSystem(\n",
    "    key=ACCESS_KEY,\n",
    "    secret=SECRET_KEY,\n",
    "    client_kwargs={'endpoint_url': lakefs_endpoint}\n",
    ")\n",
    "\n",
    "def load_data():\n",
    "    lakefs_path = \"s3://air-quality/main/airquality.parquet/year=2025\"\n",
    "    data_list = fs.glob(f\"{lakefs_path}/*/*/*/*\")\n",
    "    df_all = pd.concat([pd.read_parquet(f\"s3://{path}\", filesystem=fs) for path in data_list], ignore_index=True)\n",
    "    df_all['lat'] = pd.to_numeric(df_all['lat'], errors='coerce')\n",
    "    df_all['long'] = pd.to_numeric(df_all['long'], errors='coerce')\n",
    "    df_all['year'] = df_all['year'].astype(int)\n",
    "    df_all['month'] = df_all['month'].astype(int)\n",
    "    df_all['PM25.aqi'] = df_all['PM25.aqi'].mask(df_all['PM25.aqi'] < 0, pd.NA)\n",
    "    df_all['PM25.aqi'] = df_all.groupby('stationID')['PM25.aqi'].transform(lambda x: x.fillna(method='ffill'))\n",
    "    columns_to_convert = ['stationID', 'nameTH', 'nameEN', 'areaTH', 'areaEN', 'stationType']\n",
    "    for col in columns_to_convert:\n",
    "        df_all[col] = df_all[col].astype(pd.StringDtype())\n",
    "    df_all.drop_duplicates(inplace=True)\n",
    "    return df_all"
   ]
  },
  {
   "cell_type": "code",
   "execution_count": 13,
   "id": "36bdf003",
   "metadata": {},
   "outputs": [
    {
     "name": "stderr",
     "output_type": "stream",
     "text": [
      "/var/folders/g_/rkb_y7md1l3_n6c7w4h23df00000gp/T/ipykernel_81559/2421089097.py:32: FutureWarning: Series.fillna with 'method' is deprecated and will raise in a future version. Use obj.ffill() or obj.bfill() instead.\n",
      "  df_all['PM25.aqi'] = df_all.groupby('stationID')['PM25.aqi'].transform(lambda x: x.fillna(method='ffill'))\n"
     ]
    }
   ],
   "source": [
    "df = load_data()"
   ]
  },
  {
   "cell_type": "code",
   "execution_count": 14,
   "id": "2c90c4b7",
   "metadata": {},
   "outputs": [
    {
     "name": "stdout",
     "output_type": "stream",
     "text": [
      "<class 'pandas.core.frame.DataFrame'>\n",
      "Index: 30073 entries, 0 to 32673\n",
      "Data columns (total 15 columns):\n",
      " #   Column         Non-Null Count  Dtype         \n",
      "---  ------         --------------  -----         \n",
      " 0   timestamp      30073 non-null  datetime64[ns]\n",
      " 1   stationID      30073 non-null  string        \n",
      " 2   nameTH         30073 non-null  string        \n",
      " 3   nameEN         30073 non-null  string        \n",
      " 4   areaTH         30073 non-null  string        \n",
      " 5   areaEN         30073 non-null  string        \n",
      " 6   stationType    30073 non-null  string        \n",
      " 7   lat            30073 non-null  float64       \n",
      " 8   long           30073 non-null  float64       \n",
      " 9   PM25.color_id  30073 non-null  int64         \n",
      " 10  PM25.aqi       30073 non-null  float64       \n",
      " 11  year           30073 non-null  int64         \n",
      " 12  month          30073 non-null  int64         \n",
      " 13  day            30073 non-null  int32         \n",
      " 14  hour           30073 non-null  int32         \n",
      "dtypes: datetime64[ns](1), float64(3), int32(2), int64(3), string(6)\n",
      "memory usage: 3.4 MB\n"
     ]
    }
   ],
   "source": [
    "df.info()"
   ]
  },
  {
   "cell_type": "code",
   "execution_count": 15,
   "id": "c35ed9f0",
   "metadata": {},
   "outputs": [],
   "source": [
    "df.to_csv('data.csv', encoding='utf-8', index=False)"
   ]
  },
  {
   "cell_type": "code",
   "execution_count": 16,
   "id": "aa5e60aa",
   "metadata": {},
   "outputs": [],
   "source": [
    "df.to_parquet('data.parquet', partition_cols=['year','month','day','hour'], engine='pyarrow')"
   ]
  }
 ],
 "metadata": {
  "kernelspec": {
   "display_name": "airquality",
   "language": "python",
   "name": "python3"
  },
  "language_info": {
   "codemirror_mode": {
    "name": "ipython",
    "version": 3
   },
   "file_extension": ".py",
   "mimetype": "text/x-python",
   "name": "python",
   "nbconvert_exporter": "python",
   "pygments_lexer": "ipython3",
   "version": "3.10.16"
  }
 },
 "nbformat": 4,
 "nbformat_minor": 5
}
